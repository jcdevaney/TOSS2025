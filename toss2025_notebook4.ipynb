{
  "cells": [
    {
      "cell_type": "markdown",
      "metadata": {
        "id": "view-in-github",
        "colab_type": "text"
      },
      "source": [
        "<a href=\"https://colab.research.google.com/github/jcdevaney/TOSS2025/blob/main/toss2025_notebook4.ipynb\" target=\"_parent\"><img src=\"https://colab.research.google.com/assets/colab-badge.svg\" alt=\"Open In Colab\"/></a>"
      ]
    },
    {
      "cell_type": "markdown",
      "id": "4c5ed9bd-dd5b-406f-89a6-f40cf7bbce41",
      "metadata": {
        "id": "4c5ed9bd-dd5b-406f-89a6-f40cf7bbce41"
      },
      "source": [
        "<h1>pyAMPACT</h1>"
      ]
    },
    {
      "cell_type": "code",
      "execution_count": 1,
      "id": "a1509e57-aa7e-4c0a-99c3-26e02c565a6e",
      "metadata": {
        "id": "a1509e57-aa7e-4c0a-99c3-26e02c565a6e",
        "outputId": "fb73cd95-1287-4abf-c50b-e79e0aa81c4c",
        "colab": {
          "base_uri": "https://localhost:8080/"
        }
      },
      "outputs": [
        {
          "output_type": "stream",
          "name": "stdout",
          "text": [
            "Requirement already satisfied: pyampact in /usr/local/lib/python3.11/dist-packages (0.7.9)\n",
            "Requirement already satisfied: music21==9.1.0 in /usr/local/lib/python3.11/dist-packages (from pyampact) (9.1.0)\n",
            "Requirement already satisfied: pandas==2.2.0 in /usr/local/lib/python3.11/dist-packages (from pyampact) (2.2.0)\n",
            "Requirement already satisfied: pyarrow==15.0.0 in /usr/local/lib/python3.11/dist-packages (from pyampact) (15.0.0)\n",
            "Requirement already satisfied: numpy==1.24.3 in /usr/local/lib/python3.11/dist-packages (from pyampact) (1.24.3)\n",
            "Requirement already satisfied: requests==2.31.0 in /usr/local/lib/python3.11/dist-packages (from pyampact) (2.31.0)\n",
            "Requirement already satisfied: pytest==7.4.3 in /usr/local/lib/python3.11/dist-packages (from pyampact) (7.4.3)\n",
            "Requirement already satisfied: scipy==1.11.1 in /usr/local/lib/python3.11/dist-packages (from pyampact) (1.11.1)\n",
            "Requirement already satisfied: librosa==0.10.0.post2 in /usr/local/lib/python3.11/dist-packages (from pyampact) (0.10.0.post2)\n",
            "Requirement already satisfied: mido==1.3.2 in /usr/local/lib/python3.11/dist-packages (from pyampact) (1.3.2)\n",
            "Requirement already satisfied: setuptools>=48 in /usr/local/lib/python3.11/dist-packages (from pyampact) (75.2.0)\n",
            "Requirement already satisfied: audioread>=2.1.9 in /usr/local/lib/python3.11/dist-packages (from librosa==0.10.0.post2->pyampact) (3.0.1)\n",
            "Requirement already satisfied: scikit-learn>=0.20.0 in /usr/local/lib/python3.11/dist-packages (from librosa==0.10.0.post2->pyampact) (1.6.1)\n",
            "Requirement already satisfied: joblib>=0.14 in /usr/local/lib/python3.11/dist-packages (from librosa==0.10.0.post2->pyampact) (1.5.0)\n",
            "Requirement already satisfied: decorator>=4.3.0 in /usr/local/lib/python3.11/dist-packages (from librosa==0.10.0.post2->pyampact) (4.4.2)\n",
            "Requirement already satisfied: numba>=0.51.0 in /usr/local/lib/python3.11/dist-packages (from librosa==0.10.0.post2->pyampact) (0.60.0)\n",
            "Requirement already satisfied: soundfile>=0.12.1 in /usr/local/lib/python3.11/dist-packages (from librosa==0.10.0.post2->pyampact) (0.13.1)\n",
            "Requirement already satisfied: pooch<1.7,>=1.0 in /usr/local/lib/python3.11/dist-packages (from librosa==0.10.0.post2->pyampact) (1.6.0)\n",
            "Requirement already satisfied: soxr>=0.3.2 in /usr/local/lib/python3.11/dist-packages (from librosa==0.10.0.post2->pyampact) (0.5.0.post1)\n",
            "Requirement already satisfied: typing-extensions>=4.1.1 in /usr/local/lib/python3.11/dist-packages (from librosa==0.10.0.post2->pyampact) (4.13.2)\n",
            "Requirement already satisfied: lazy-loader>=0.1 in /usr/local/lib/python3.11/dist-packages (from librosa==0.10.0.post2->pyampact) (0.4)\n",
            "Requirement already satisfied: msgpack>=1.0 in /usr/local/lib/python3.11/dist-packages (from librosa==0.10.0.post2->pyampact) (1.1.0)\n",
            "Requirement already satisfied: packaging~=23.1 in /usr/local/lib/python3.11/dist-packages (from mido==1.3.2->pyampact) (23.2)\n",
            "Requirement already satisfied: chardet in /usr/local/lib/python3.11/dist-packages (from music21==9.1.0->pyampact) (5.2.0)\n",
            "Requirement already satisfied: jsonpickle in /usr/local/lib/python3.11/dist-packages (from music21==9.1.0->pyampact) (4.1.0)\n",
            "Requirement already satisfied: matplotlib in /usr/local/lib/python3.11/dist-packages (from music21==9.1.0->pyampact) (3.10.0)\n",
            "Requirement already satisfied: more-itertools in /usr/local/lib/python3.11/dist-packages (from music21==9.1.0->pyampact) (10.7.0)\n",
            "Requirement already satisfied: webcolors>=1.5 in /usr/local/lib/python3.11/dist-packages (from music21==9.1.0->pyampact) (24.11.1)\n",
            "Requirement already satisfied: python-dateutil>=2.8.2 in /usr/local/lib/python3.11/dist-packages (from pandas==2.2.0->pyampact) (2.9.0.post0)\n",
            "Requirement already satisfied: pytz>=2020.1 in /usr/local/lib/python3.11/dist-packages (from pandas==2.2.0->pyampact) (2025.2)\n",
            "Requirement already satisfied: tzdata>=2022.7 in /usr/local/lib/python3.11/dist-packages (from pandas==2.2.0->pyampact) (2025.2)\n",
            "Requirement already satisfied: iniconfig in /usr/local/lib/python3.11/dist-packages (from pytest==7.4.3->pyampact) (2.1.0)\n",
            "Requirement already satisfied: pluggy<2.0,>=0.12 in /usr/local/lib/python3.11/dist-packages (from pytest==7.4.3->pyampact) (1.6.0)\n",
            "Requirement already satisfied: charset-normalizer<4,>=2 in /usr/local/lib/python3.11/dist-packages (from requests==2.31.0->pyampact) (3.4.2)\n",
            "Requirement already satisfied: idna<4,>=2.5 in /usr/local/lib/python3.11/dist-packages (from requests==2.31.0->pyampact) (3.10)\n",
            "Requirement already satisfied: urllib3<3,>=1.21.1 in /usr/local/lib/python3.11/dist-packages (from requests==2.31.0->pyampact) (2.4.0)\n",
            "Requirement already satisfied: certifi>=2017.4.17 in /usr/local/lib/python3.11/dist-packages (from requests==2.31.0->pyampact) (2025.4.26)\n",
            "Requirement already satisfied: llvmlite<0.44,>=0.43.0dev0 in /usr/local/lib/python3.11/dist-packages (from numba>=0.51.0->librosa==0.10.0.post2->pyampact) (0.43.0)\n",
            "Requirement already satisfied: appdirs>=1.3.0 in /usr/local/lib/python3.11/dist-packages (from pooch<1.7,>=1.0->librosa==0.10.0.post2->pyampact) (1.4.4)\n",
            "Requirement already satisfied: six>=1.5 in /usr/local/lib/python3.11/dist-packages (from python-dateutil>=2.8.2->pandas==2.2.0->pyampact) (1.17.0)\n",
            "Requirement already satisfied: threadpoolctl>=3.1.0 in /usr/local/lib/python3.11/dist-packages (from scikit-learn>=0.20.0->librosa==0.10.0.post2->pyampact) (3.6.0)\n",
            "Requirement already satisfied: cffi>=1.0 in /usr/local/lib/python3.11/dist-packages (from soundfile>=0.12.1->librosa==0.10.0.post2->pyampact) (1.17.1)\n",
            "Requirement already satisfied: contourpy>=1.0.1 in /usr/local/lib/python3.11/dist-packages (from matplotlib->music21==9.1.0->pyampact) (1.3.2)\n",
            "Requirement already satisfied: cycler>=0.10 in /usr/local/lib/python3.11/dist-packages (from matplotlib->music21==9.1.0->pyampact) (0.12.1)\n",
            "Requirement already satisfied: fonttools>=4.22.0 in /usr/local/lib/python3.11/dist-packages (from matplotlib->music21==9.1.0->pyampact) (4.58.0)\n",
            "Requirement already satisfied: kiwisolver>=1.3.1 in /usr/local/lib/python3.11/dist-packages (from matplotlib->music21==9.1.0->pyampact) (1.4.8)\n",
            "Requirement already satisfied: pillow>=8 in /usr/local/lib/python3.11/dist-packages (from matplotlib->music21==9.1.0->pyampact) (11.2.1)\n",
            "Requirement already satisfied: pyparsing>=2.3.1 in /usr/local/lib/python3.11/dist-packages (from matplotlib->music21==9.1.0->pyampact) (3.2.3)\n",
            "Requirement already satisfied: pycparser in /usr/local/lib/python3.11/dist-packages (from cffi>=1.0->soundfile>=0.12.1->librosa==0.10.0.post2->pyampact) (2.22)\n"
          ]
        }
      ],
      "source": [
        "# Due to package dependencies issues, you will have to restart the runtime\n",
        "# after running this cell and then and re-run it a second time\n",
        "\n",
        "!pip install pyampact\n",
        "import pyampact"
      ]
    },
    {
      "cell_type": "code",
      "source": [
        "!git clone https://github.com/jcdevaney/toss2025.git"
      ],
      "metadata": {
        "id": "q-ZJ7NekM9Cr",
        "outputId": "e396c953-c39d-47a3-deca-28f9f5c29bda",
        "colab": {
          "base_uri": "https://localhost:8080/"
        }
      },
      "id": "q-ZJ7NekM9Cr",
      "execution_count": 2,
      "outputs": [
        {
          "output_type": "stream",
          "name": "stdout",
          "text": [
            "Cloning into 'toss2025'...\n",
            "remote: Enumerating objects: 108, done.\u001b[K\n",
            "remote: Counting objects: 100% (35/35), done.\u001b[K\n",
            "remote: Compressing objects: 100% (26/26), done.\u001b[K\n",
            "remote: Total 108 (delta 16), reused 19 (delta 8), pack-reused 73 (from 2)\u001b[K\n",
            "Receiving objects: 100% (108/108), 58.98 MiB | 13.22 MiB/s, done.\n",
            "Resolving deltas: 100% (19/19), done.\n"
          ]
        }
      ]
    },
    {
      "cell_type": "markdown",
      "source": [
        "# Load Audio File"
      ],
      "metadata": {
        "id": "l45ArYSqaYEF"
      },
      "id": "l45ArYSqaYEF"
    },
    {
      "cell_type": "code",
      "source": [
        "audio_file = '/content/toss2025/audio/avm.wav'\n",
        "\n",
        "y, original_sr = pyampact.load_audiofile(audio_file)"
      ],
      "metadata": {
        "id": "M0fXpkk2aSZo"
      },
      "id": "M0fXpkk2aSZo",
      "execution_count": 3,
      "outputs": []
    },
    {
      "cell_type": "markdown",
      "source": [
        "# Import Tony Annotations"
      ],
      "metadata": {
        "id": "W2D-cXMZQC2D"
      },
      "id": "W2D-cXMZQC2D"
    },
    {
      "cell_type": "markdown",
      "source": [
        "### Load a Tony-style annotation file"
      ],
      "metadata": {
        "id": "zpvbeXk2QFP5"
      },
      "id": "zpvbeXk2QFP5"
    },
    {
      "cell_type": "code",
      "source": [
        "annotation_file = '/content/toss2025/audio/tony/avm_tonyLabels.csv'\n",
        "\n",
        "piece2 = pyampact.Score(annotation_file)"
      ],
      "metadata": {
        "id": "6tFFnUGwQFZK"
      },
      "id": "6tFFnUGwQFZK",
      "execution_count": 4,
      "outputs": []
    },
    {
      "cell_type": "markdown",
      "source": [
        "### Link the anotations to the audio with the  `run_alignment` function"
      ],
      "metadata": {
        "id": "vZLTBBAtQFhI"
      },
      "id": "vZLTBBAtQFhI"
    },
    {
      "cell_type": "code",
      "source": [
        "dtw, spec, nmat = pyampact.run_alignment(y, original_sr, piece2, piece2.nmats())"
      ],
      "metadata": {
        "id": "1J7ZxtRyQuwG"
      },
      "id": "1J7ZxtRyQuwG",
      "execution_count": 5,
      "outputs": []
    },
    {
      "cell_type": "markdown",
      "source": [
        "### Estimate and compile performance parameters"
      ],
      "metadata": {
        "id": "5pxyYSgDQFu6"
      },
      "id": "5pxyYSgDQFu6"
    },
    {
      "cell_type": "code",
      "source": [
        "pyampact.data_compilation(nmat, audio_file, piece2)"
      ],
      "metadata": {
        "id": "lzT43SXkQFoO",
        "colab": {
          "base_uri": "https://localhost:8080/"
        },
        "outputId": "8f9c2de2-558e-43a2-df39-945581933147"
      },
      "id": "lzT43SXkQFoO",
      "execution_count": 6,
      "outputs": [
        {
          "output_type": "stream",
          "name": "stdout",
          "text": [
            "Saved ./output_ave.csv\n"
          ]
        },
        {
          "output_type": "execute_result",
          "data": {
            "text/plain": [
              "({'Part-1':             MEASURE  ONSET  DURATION    PART  MIDI  ONSET_SEC  OFFSET_SEC  \\\n",
              "  pyAMPACT-1      1.0    0.0  2.867664  Part-1    70   0.928798    3.796463   \n",
              "  pyAMPACT-2      1.0    1.0  0.510839  Part-1    69   3.802268    4.313107   \n",
              "  pyAMPACT-3      1.0    2.0  0.487619  Part-1    70   4.318912    4.806531   \n",
              "  pyAMPACT-4      1.0    3.0  3.413333  Part-1    74   4.829751    8.243084   \n",
              "  pyAMPACT-5      1.0    4.0  0.383129  Part-1    71   8.248889    8.632018   \n",
              "  pyAMPACT-6      1.0    5.0  2.217506  Part-1    70   8.637823   10.855329   \n",
              "  \n",
              "                                                         f0Vals      meanf0  \\\n",
              "  pyAMPACT-1  [463.88798388 463.61084335 463.20998909 462.49...  462.521868   \n",
              "  pyAMPACT-2  [440.57042804 440.35462241 438.7031491  440.01...  438.167099   \n",
              "  pyAMPACT-3  [466.50579175 467.05131942 467.53313682 468.15...  463.280154   \n",
              "  pyAMPACT-4  [586.80903814 584.39455954 582.59753257 584.92...  583.004256   \n",
              "  pyAMPACT-5  [496.34906374 496.89401677 496.45569635 499.63...  500.325296   \n",
              "  pyAMPACT-6  [467.3009377  466.29709161 465.91929387 465.53...  461.933924   \n",
              "  \n",
              "                 ppitch1  ...  \\\n",
              "  pyAMPACT-1  460.598258  ...   \n",
              "  pyAMPACT-2  438.933535  ...   \n",
              "  pyAMPACT-3  463.548838  ...   \n",
              "  pyAMPACT-4  583.016865  ...   \n",
              "  pyAMPACT-5  500.314718  ...   \n",
              "  pyAMPACT-6  461.657035  ...   \n",
              "  \n",
              "                                                   specCentVals  meanSpecCent  \\\n",
              "  pyAMPACT-1  [[640.55250355 653.77721891 647.07784178 614.2...    835.671417   \n",
              "  pyAMPACT-2  [[459.90566429 464.04258733 431.52854986 425.7...    442.034568   \n",
              "  pyAMPACT-3  [[ 459.52117424  473.59989512  499.98601167  5...   1016.142347   \n",
              "  pyAMPACT-4  [[605.98038235 582.2719225  571.8160073  572.8...    581.078210   \n",
              "  pyAMPACT-5  [[2684.35396977  507.63555529  506.04290261  5...    553.504820   \n",
              "  pyAMPACT-6  [[ 481.68547116  479.10467901  473.97932222  4...    860.872450   \n",
              "  \n",
              "                                              specBandwidthVals  \\\n",
              "  pyAMPACT-1  [[247.1096465  243.57023463 235.81443382 223.6...   \n",
              "  pyAMPACT-2  [[ 83.51242089 104.28747525  54.73281968  49.1...   \n",
              "  pyAMPACT-3  [[ 34.42239213  75.13536187 137.64337439 227.4...   \n",
              "  pyAMPACT-4  [[185.37703138  12.3332783    5.8784361    7.0...   \n",
              "  pyAMPACT-5  [[1676.49382908   75.92212308   14.08384951   ...   \n",
              "  pyAMPACT-6  [[  8.5476322   12.26435078  16.09307635  17.8...   \n",
              "  \n",
              "              meanSpecBandwidth  \\\n",
              "  pyAMPACT-1         148.290579   \n",
              "  pyAMPACT-2          76.908409   \n",
              "  pyAMPACT-3         259.276797   \n",
              "  pyAMPACT-4          21.024405   \n",
              "  pyAMPACT-5          43.041616   \n",
              "  pyAMPACT-6         190.871875   \n",
              "  \n",
              "                                               specContrastVals  \\\n",
              "  pyAMPACT-1  [[ 88.63103992  88.63103992  88.63103992 ...  ...   \n",
              "  pyAMPACT-2  [[ 85.01538161  85.01538161  85.01538161  85.0...   \n",
              "  pyAMPACT-3  [[ 89.99961563  89.99961563  89.99961563  89.9...   \n",
              "  pyAMPACT-4  [[110.05221351 110.05221351 110.05221351 ... 1...   \n",
              "  pyAMPACT-5  [[ 93.9379954   93.9379954   93.9379954   93.9...   \n",
              "  pyAMPACT-6  [[ 86.84419383  86.84419383  86.84419383 ...  ...   \n",
              "  \n",
              "              meanSpecContrast  \\\n",
              "  pyAMPACT-1        108.747448   \n",
              "  pyAMPACT-2        108.069509   \n",
              "  pyAMPACT-3        117.009341   \n",
              "  pyAMPACT-4        129.422324   \n",
              "  pyAMPACT-5        109.577195   \n",
              "  pyAMPACT-6        105.002641   \n",
              "  \n",
              "                                               specFlatnessVals  \\\n",
              "  pyAMPACT-1  [[4.22394367e-15 1.01506216e-15 4.34026061e-16...   \n",
              "  pyAMPACT-2  [[1.6815666e-16 1.8331964e-15 6.8724603e-15 1....   \n",
              "  pyAMPACT-3  [[2.1175842e-17 1.0150064e-17 2.7413644e-18 1....   \n",
              "  pyAMPACT-4  [[8.83505435e-10 1.48643508e-14 7.86545210e-19...   \n",
              "  pyAMPACT-5  [[4.4132951e-11 1.0342120e-16 5.4278140e-18 1....   \n",
              "  pyAMPACT-6  [[2.79725755e-19 1.66122153e-19 2.84778252e-19...   \n",
              "  \n",
              "             meanSpecFlatness  \\\n",
              "  pyAMPACT-1     3.195236e-08   \n",
              "  pyAMPACT-2     4.243140e-15   \n",
              "  pyAMPACT-3     8.288580e-19   \n",
              "  pyAMPACT-4     2.069134e-12   \n",
              "  pyAMPACT-5     9.194388e-13   \n",
              "  pyAMPACT-6     2.214819e-07   \n",
              "  \n",
              "                                                specRolloffVals meanSpecRolloff  \n",
              "  pyAMPACT-1  [[ 915.16113281  915.16113281  915.16113281  9...      916.090839  \n",
              "  pyAMPACT-2  [[452.19726562 452.19726562 430.6640625  419.8...      437.561417  \n",
              "  pyAMPACT-3  [[ 462.96386719  473.73046875  473.73046875  4...     1165.440494  \n",
              "  pyAMPACT-4  [[592.16308594 581.39648438 570.62988281 581.3...      582.657211  \n",
              "  pyAMPACT-5  [[3972.87597656  506.03027344  506.03027344  5...      583.415222  \n",
              "  pyAMPACT-6  [[ 484.49707031  484.49707031  484.49707031  4...     1024.615104  \n",
              "  \n",
              "  [6 rows x 27 columns]},\n",
              " None)"
            ]
          },
          "metadata": {},
          "execution_count": 6
        }
      ]
    }
  ],
  "metadata": {
    "kernelspec": {
      "display_name": "Python 3 (ipykernel)",
      "language": "python",
      "name": "python3"
    },
    "language_info": {
      "codemirror_mode": {
        "name": "ipython",
        "version": 3
      },
      "file_extension": ".py",
      "mimetype": "text/x-python",
      "name": "python",
      "nbconvert_exporter": "python",
      "pygments_lexer": "ipython3",
      "version": "3.10.11"
    },
    "colab": {
      "provenance": [],
      "include_colab_link": true
    }
  },
  "nbformat": 4,
  "nbformat_minor": 5
}